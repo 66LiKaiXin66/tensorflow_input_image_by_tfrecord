{
 "metadata": {
  "name": "",
  "signature": "sha256:b31592e4c4a59e4930d59a5e72ea730e1de74f50eb27190743b06458dafa4af8"
 },
 "nbformat": 3,
 "nbformat_minor": 0,
 "worksheets": [
  {
   "cells": [
    {
     "cell_type": "code",
     "collapsed": false,
     "input": [
      "import tensorflow as tf"
     ],
     "language": "python",
     "metadata": {},
     "outputs": [],
     "prompt_number": 1
    },
    {
     "cell_type": "code",
     "collapsed": false,
     "input": [
      "def read_and_decode(filename_queue):\n",
      "    reader = tf.TFRecordReader()\n",
      "    _, serialized_example = reader.read(filename_queue)\n",
      "    features = tf.parse_single_example(serialized_example, features = {\n",
      "        \"image/encoded\": tf.FixedLenFeature([], tf.string),                                                                   \n",
      "        \"image/height\": tf.FixedLenFeature([], tf.int64),\n",
      "        \"image/filename\": tf.FixedLenFeature([], tf.string),\n",
      "        \"image/class/label\": tf.FixedLenFeature([], tf.int64),\n",
      "    })\n",
      "    image = tf.decode_raw(features[\"image/encoded\"], tf.uint8)\n",
      "    image.set_shape([128*128])\n",
      "    image = tf.cast(image, tf.float32)*(1./255)-0.5\n",
      "    label = tf.cast(features[\"image/class/label\"], tf.int32)\n",
      "    height = features['image/height']\n",
      "    filename = features[\"image/filename\"]\n",
      "    return image, label\n",
      "#    return features    \n",
      "\n",
      "def input_pipeline(filenames, num_epochs = None):\n",
      "    filename_queue = tf.train.string_input_producer(filenames, num_epochs = num_epochs)\n",
      "    example, label = read_and_decode(filename_queue)\n",
      "\n",
      "    example_batch, label_batch = tf.train.shuffle_batch(\n",
      "    [example, label], batch_size=5, capacity=20, min_after_dequeue=10)\n",
      "    return example_batch, label_batch"
     ],
     "language": "python",
     "metadata": {},
     "outputs": [],
     "prompt_number": 2
    },
    {
     "cell_type": "code",
     "collapsed": false,
     "input": [
      "filename_queue = tf.train.string_input_producer([\"./train-00000-of-00001\"], num_epochs=None)\n"
     ],
     "language": "python",
     "metadata": {},
     "outputs": [],
     "prompt_number": 3
    },
    {
     "cell_type": "code",
     "collapsed": false,
     "input": [
      "#features= read_and_decode(filename_queue)\n",
      "image, label = read_and_decode(filename_queue)"
     ],
     "language": "python",
     "metadata": {},
     "outputs": [],
     "prompt_number": 4
    },
    {
     "cell_type": "code",
     "collapsed": false,
     "input": [
      "with tf.Session() as sess:\n",
      "    sess.run(tf.initialize_all_variables())\n",
      "    coord = tf.train.Coordinator()\n",
      "    threads = tf.train.start_queue_runners(coord=coord)\n",
      "    print \"from the train set:\"\n",
      "#        print sess.run(features)\n",
      "#        print sess.run(image)\n",
      "#        print sess.run(label)\n",
      "    print sess.run(image)\n",
      "#        print sess.run(filename)\n",
      "    coord.request_stop()\n",
      "#    coord.join(threads)\n",
      "#    sess.close()"
     ],
     "language": "python",
     "metadata": {},
     "outputs": [
      {
       "output_type": "stream",
       "stream": "stdout",
       "text": [
        "from the train set:\n",
        "[ 0.5         0.34705889  0.5        ..., -0.4254902   0.5         0.35098046]\n"
       ]
      }
     ],
     "prompt_number": 5
    },
    {
     "cell_type": "code",
     "collapsed": false,
     "input": [
      "images, sparse_labels = tf.train.shuffle_batch(\n",
      "    [image, label], batch_size = 5, num_threads=2,capacity= 10, min_after_dequeue=6)"
     ],
     "language": "python",
     "metadata": {},
     "outputs": [],
     "prompt_number": 8
    },
    {
     "cell_type": "code",
     "collapsed": false,
     "input": [
      "print images"
     ],
     "language": "python",
     "metadata": {},
     "outputs": [
      {
       "output_type": "stream",
       "stream": "stdout",
       "text": [
        "Tensor(\"shuffle_batch:0\", shape=(5, 1024), dtype=float32)\n"
       ]
      }
     ],
     "prompt_number": 8
    },
    {
     "cell_type": "code",
     "collapsed": false,
     "input": [
      "print sparse_labels"
     ],
     "language": "python",
     "metadata": {},
     "outputs": [
      {
       "output_type": "stream",
       "stream": "stdout",
       "text": [
        "Tensor(\"shuffle_batch:1\", shape=(5,), dtype=int32)\n"
       ]
      }
     ],
     "prompt_number": 9
    },
    {
     "cell_type": "code",
     "collapsed": false,
     "input": [
      "sess = tf.Session()\n",
      "sess.run(tf.initialize_all_variables())"
     ],
     "language": "python",
     "metadata": {},
     "outputs": [],
     "prompt_number": 10
    },
    {
     "cell_type": "code",
     "collapsed": false,
     "input": [
      "a = images"
     ],
     "language": "python",
     "metadata": {},
     "outputs": [],
     "prompt_number": 11
    },
    {
     "cell_type": "code",
     "collapsed": false,
     "input": [
      "print a"
     ],
     "language": "python",
     "metadata": {},
     "outputs": [
      {
       "output_type": "stream",
       "stream": "stdout",
       "text": [
        "Tensor(\"shuffle_batch:0\", shape=(5, 1024), dtype=float32)\n"
       ]
      }
     ],
     "prompt_number": 12
    },
    {
     "cell_type": "code",
     "collapsed": false,
     "input": [],
     "language": "python",
     "metadata": {},
     "outputs": []
    },
    {
     "cell_type": "code",
     "collapsed": false,
     "input": [],
     "language": "python",
     "metadata": {},
     "outputs": []
    },
    {
     "cell_type": "code",
     "collapsed": false,
     "input": [],
     "language": "python",
     "metadata": {},
     "outputs": []
    },
    {
     "cell_type": "code",
     "collapsed": false,
     "input": [],
     "language": "python",
     "metadata": {},
     "outputs": []
    },
    {
     "cell_type": "code",
     "collapsed": false,
     "input": [],
     "language": "python",
     "metadata": {},
     "outputs": []
    },
    {
     "cell_type": "code",
     "collapsed": false,
     "input": [],
     "language": "python",
     "metadata": {},
     "outputs": []
    },
    {
     "cell_type": "code",
     "collapsed": false,
     "input": [],
     "language": "python",
     "metadata": {},
     "outputs": []
    },
    {
     "cell_type": "code",
     "collapsed": false,
     "input": [],
     "language": "python",
     "metadata": {},
     "outputs": []
    },
    {
     "cell_type": "code",
     "collapsed": false,
     "input": [
      "\n"
     ],
     "language": "python",
     "metadata": {},
     "outputs": []
    },
    {
     "cell_type": "code",
     "collapsed": false,
     "input": [],
     "language": "python",
     "metadata": {},
     "outputs": []
    }
   ],
   "metadata": {}
  }
 ]
}